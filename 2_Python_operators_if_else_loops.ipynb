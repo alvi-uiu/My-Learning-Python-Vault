{
 "cells": [
  {
   "cell_type": "markdown",
   "metadata": {
    "id": "NyYxYR0Sj1iD"
   },
   "source": [
    "# 1. Operators in Python :\n",
    "\n",
    "1. Arithmetic\n",
    "2. Relational\n",
    "3. Logical\n",
    "4. Bitwise\n",
    "5. Assignment\n",
    "6. Membership"
   ]
  },
  {
   "cell_type": "code",
   "execution_count": null,
   "metadata": {
    "colab": {
     "base_uri": "https://localhost:8080/"
    },
    "id": "s4M2fb_ZkNSG",
    "outputId": "aaff46aa-f3a9-467d-9457-2122d47e22da"
   },
   "outputs": [
    {
     "name": "stdout",
     "output_type": "stream",
     "text": [
      "7\n",
      "3\n",
      "10\n",
      "2.5\n",
      "2\n",
      "1\n",
      "25\n"
     ]
    }
   ],
   "source": [
    "# arithmetic operators :\n",
    "a,b=5,2\n",
    "print(a+b)\n",
    "print(a-b)\n",
    "print(a*b)\n",
    "print(a/b)\n",
    "print(a//b) # int division : will keep only int and cut the decimal point part\n",
    "print(a%b)  # remainder\n",
    "print(a**b) # power\n"
   ]
  },
  {
   "cell_type": "code",
   "execution_count": null,
   "metadata": {
    "colab": {
     "base_uri": "https://localhost:8080/"
    },
    "id": "rKB5u204lqKv",
    "outputId": "d64f3fd2-57e1-4758-82b0-9dbe77793ba8"
   },
   "outputs": [
    {
     "name": "stdout",
     "output_type": "stream",
     "text": [
      "True\n",
      "False\n",
      "True\n",
      "False\n",
      "False\n",
      "True\n"
     ]
    }
   ],
   "source": [
    "#relational operators :\n",
    "a,b=9,7\n",
    "\n",
    "print(a>b)\n",
    "print(a<b)\n",
    "print(a>=b)\n",
    "print(a<=b)\n",
    "print(a==b)\n",
    "print(a!=b)\n",
    "\n"
   ]
  },
  {
   "cell_type": "code",
   "execution_count": null,
   "metadata": {
    "colab": {
     "base_uri": "https://localhost:8080/"
    },
    "id": "R0QgPUD-nErx",
    "outputId": "e6770bb5-1085-4bb5-b51d-8ea36f02955e"
   },
   "outputs": [
    {
     "name": "stdout",
     "output_type": "stream",
     "text": [
      "1\n",
      "0\n",
      "False\n"
     ]
    }
   ],
   "source": [
    "#logical operators :\n",
    "print(1 or 0)\n",
    "print(1 and 0)\n",
    "print(not 1)"
   ]
  },
  {
   "cell_type": "code",
   "execution_count": null,
   "metadata": {
    "colab": {
     "base_uri": "https://localhost:8080/"
    },
    "id": "Y8p7G9wNnQLf",
    "outputId": "8cdbd755-f0a4-4050-b279-8b86c5966186"
   },
   "outputs": [
    {
     "name": "stdout",
     "output_type": "stream",
     "text": [
      "2\n",
      "3\n",
      "1\n",
      "-5\n",
      "1\n",
      "16\n"
     ]
    }
   ],
   "source": [
    "#bitwise operators :\n",
    "\n",
    "#bitwise and :\n",
    "print(2 & 3) # 010(2) and 011(3) = 010(2)\n",
    "\n",
    "#bitwise or :\n",
    "print(2|3) # 010(2) or 011(3) = 011(3)\n",
    "\n",
    "#bitwise xor :\n",
    "print(2^3) #010(2) xor 011(3) = 001(2)\n",
    "\n",
    "#bitwise not :\n",
    "print(~4) # 100 ~ -> 011 => 2s complement : 100 + 1 = -5\n",
    "\n",
    "#right shift :\n",
    "print(4>>2) # 1st right shift : 010 => 2nd right shift : 001\n",
    "\n",
    "#left shift :\n",
    "print(4<<2) # 1st right shift : 1000 => 2nd right shift : 10000"
   ]
  },
  {
   "cell_type": "code",
   "execution_count": null,
   "metadata": {
    "colab": {
     "base_uri": "https://localhost:8080/"
    },
    "id": "rMz8tGRMstA5",
    "outputId": "a95b7537-32c9-4a02-d0cc-5d6fde33f186"
   },
   "outputs": [
    {
     "name": "stdout",
     "output_type": "stream",
     "text": [
      "177\n",
      "17.7\n"
     ]
    }
   ],
   "source": [
    "#assignment operators :\n",
    "a = 77\n",
    "a+=100\n",
    "print(a)\n",
    "a/=10\n",
    "print(a)\n",
    "\n",
    "# ++a / a++ does not work in python :("
   ]
  },
  {
   "cell_type": "code",
   "execution_count": null,
   "metadata": {
    "colab": {
     "base_uri": "https://localhost:8080/"
    },
    "id": "UvNesu16tSyC",
    "outputId": "7361cb08-1d20-4573-88a0-f06a9882099e"
   },
   "outputs": [
    {
     "name": "stdout",
     "output_type": "stream",
     "text": [
      "True\n",
      "True\n"
     ]
    }
   ],
   "source": [
    "#membership operators : in/not in\n",
    "\n",
    "print('k' in 'Dhaka')\n",
    "print(9 not in [1,2,3,4])"
   ]
  },
  {
   "cell_type": "code",
   "execution_count": null,
   "metadata": {
    "colab": {
     "base_uri": "https://localhost:8080/"
    },
    "id": "mgiysmIEvKVk",
    "outputId": "34459995-3f87-4cc4-960c-9a56d4bfe30b"
   },
   "outputs": [
    {
     "name": "stdout",
     "output_type": "stream",
     "text": [
      "enter a 3 digit num : 167\n",
      "14\n"
     ]
    }
   ],
   "source": [
    "# program to find the sum of 3 digit number that entered by the user :\n",
    "\n",
    "#Steps :\n",
    "\n",
    "# take input of the 3 digit number :\n",
    "\n",
    "num= int (input('enter a 3 digit num : '))\n",
    "\n",
    "# discard 3 numbers from one number :\n",
    "\n",
    "num1= num%10\n",
    "num=num//10\n",
    "num2=num%10\n",
    "num=num//10\n",
    "num3=num%10\n",
    "\n",
    "\n",
    "# add those 3 numbers\n",
    "\n",
    "res = num1+num2+num3\n",
    "\n",
    "# print\n",
    "print(res)"
   ]
  },
  {
   "cell_type": "markdown",
   "metadata": {
    "id": "pZjPKEPHw4W5"
   },
   "source": [
    "# 2. IF-Else in Python :"
   ]
  },
  {
   "cell_type": "code",
   "execution_count": null,
   "metadata": {
    "colab": {
     "base_uri": "https://localhost:8080/"
    },
    "id": "gI2tPF1Hw8e1",
    "outputId": "659c244a-2d9b-4987-d6a1-da49751eb05c"
   },
   "outputs": [
    {
     "name": "stdout",
     "output_type": "stream",
     "text": [
      "enter email : alvi.cs.uiu.ac.bd\n",
      "enter pass : 998877\n",
      "log in successful\n"
     ]
    }
   ],
   "source": [
    "#log in program and indentation :\n",
    "email = 'alvi.cs.uiu.ac.bd'\n",
    "password  =  998877\n",
    "\n",
    "getEmail=str(input('enter email : '))\n",
    "getPass=int(input('enter pass : '))\n",
    "\n",
    "if email==getEmail and password==getPass:\n",
    "  print('log in successful')\n",
    "elif email==getEmail and password!=getPass:\n",
    "  print('invalid password ')\n",
    "  getPass=int(input('enter pass agian : '))\n",
    "  if(password==getPass):\n",
    "    print(\"log in successful\")\n",
    "  else :\n",
    "    print('log in failed !')\n",
    "else :\n",
    "  print('invalid email or password ! ')\n"
   ]
  },
  {
   "cell_type": "code",
   "execution_count": null,
   "metadata": {
    "colab": {
     "base_uri": "https://localhost:8080/"
    },
    "id": "tMxDjBHntb6K",
    "outputId": "23f85c11-6ad5-4e23-ce91-f292782252ac"
   },
   "outputs": [
    {
     "name": "stdout",
     "output_type": "stream",
     "text": [
      "enter first num : -8\n",
      "enter second num : 99\n",
      "enter third num : -888\n",
      "-888\n"
     ]
    }
   ],
   "source": [
    "# min of 3 numbers :\n",
    "num1=int(input('enter first num : '))\n",
    "num2=int(input('enter second num : '))\n",
    "num3=int(input('enter third num : '))\n",
    "\n",
    "if(num1<num2 and num1<num3):\n",
    "  print(num1)\n",
    "elif(num2<num3):\n",
    "  print(num2)\n",
    "else :\n",
    "  print(num3)\n",
    "\n"
   ]
  },
  {
   "cell_type": "code",
   "execution_count": null,
   "metadata": {
    "colab": {
     "base_uri": "https://localhost:8080/"
    },
    "id": "nl6kCNGvC_W2",
    "outputId": "ada5d6c4-66fe-4ecf-a35f-0a5fd29c5ef3"
   },
   "outputs": [
    {
     "name": "stdout",
     "output_type": "stream",
     "text": [
      "enter first num : 34\n",
      "enter second num : 23\n",
      "enter operation : + or - or & * or / : /\n",
      "1.4782608695652173\n"
     ]
    }
   ],
   "source": [
    "#menu driven calculator :\n",
    "a=int(input('enter first num : '))\n",
    "b=int(input('enter second num : '))\n",
    "op=str(input('enter operation : + or - or & * or / : '))\n",
    "\n",
    "if op=='+':\n",
    "  print(a+b)\n",
    "elif op=='-':\n",
    "  print(a-b)\n",
    "elif op=='*':\n",
    "  print(a*b)\n",
    "else :\n",
    "  print(a/b)\n"
   ]
  },
  {
   "cell_type": "markdown",
   "metadata": {
    "id": "XmiqoDevWSr5"
   },
   "source": [
    "# 3. Modules In Python :\n",
    "\n",
    "modules are files which has pre-built functions in it, we can re use those functions by importing modules.\n",
    "\n",
    "modules :\n",
    "1. math\n",
    "2. keywords\n",
    "3. random\n",
    "4. datetime"
   ]
  },
  {
   "cell_type": "code",
   "execution_count": null,
   "metadata": {
    "colab": {
     "base_uri": "https://localhost:8080/"
    },
    "id": "3ubX81DLWxsa",
    "outputId": "c60ca730-5385-471c-9bc3-b618972ee384"
   },
   "outputs": [
    {
     "data": {
      "text/plain": [
       "9.0"
      ]
     },
     "execution_count": 7,
     "metadata": {},
     "output_type": "execute_result"
    }
   ],
   "source": [
    "#math :\n",
    "import math\n",
    "math.factorial(5)\n",
    "math.floor(6.99)\n",
    "math.sqrt(81)"
   ]
  },
  {
   "cell_type": "code",
   "execution_count": 2,
   "metadata": {
    "id": "YuCKvlE1X291"
   },
   "outputs": [],
   "source": [
    "#keyword :\n",
    "# import keyword\n",
    "# print(keyword.kwlist)"
   ]
  },
  {
   "cell_type": "code",
   "execution_count": 3,
   "metadata": {
    "colab": {
     "base_uri": "https://localhost:8080/"
    },
    "id": "97UjqdgqYCHp",
    "outputId": "de922a66-6c96-42ba-cefe-864a59a9d2de"
   },
   "outputs": [
    {
     "name": "stdout",
     "output_type": "stream",
     "text": [
      "909\n"
     ]
    }
   ],
   "source": [
    "#random :\n",
    "import random\n",
    "print(random.randint(700,1000))"
   ]
  },
  {
   "cell_type": "code",
   "execution_count": 4,
   "metadata": {
    "colab": {
     "base_uri": "https://localhost:8080/"
    },
    "id": "PERLlS61YVV7",
    "outputId": "1b195683-1896-441a-fdea-1a33ec8f1dee"
   },
   "outputs": [
    {
     "name": "stdout",
     "output_type": "stream",
     "text": [
      "2024-11-08 05:43:06.708075\n"
     ]
    }
   ],
   "source": [
    "#datetime :\n",
    "import datetime\n",
    "print(datetime.datetime.now())"
   ]
  },
  {
   "cell_type": "code",
   "execution_count": null,
   "metadata": {
    "id": "MEjOaD6vYyWY"
   },
   "outputs": [],
   "source": [
    "#to find all the modules in python :\n",
    "help('modules')"
   ]
  },
  {
   "cell_type": "markdown",
   "metadata": {
    "id": "-LfRUIGQZzfm"
   },
   "source": [
    "4. Loops in Python :\n",
    "\n",
    "Q : In real life where loops being used ?\n",
    "A : for example in an e-commerce site inside product where we need to show multiple products in scroll bar, where the format of how products are shown remains same.\n",
    "\n",
    "Two types of loops in python:\n",
    "1. While loop\n",
    "2. For loop\n"
   ]
  },
  {
   "cell_type": "code",
   "execution_count": null,
   "metadata": {
    "colab": {
     "base_uri": "https://localhost:8080/"
    },
    "id": "XH_NLT3ra-Ou",
    "outputId": "004afe5f-48f4-4684-a966-8679dcab5c0a"
   },
   "outputs": [
    {
     "name": "stdout",
     "output_type": "stream",
     "text": [
      "enter num : 10\n",
      "10 20 30 40 50 60 70 80 90 "
     ]
    }
   ],
   "source": [
    "#while loop :\n",
    "\n",
    "#program to print a table :\n",
    "num=int(input('enter num : '))\n",
    "i=1\n",
    "while i<10:\n",
    "  print(i*num,end=' ')\n",
    "  i+=1\n",
    "\n",
    "#https://pythontutor.com/render.html#mode=edit"
   ]
  },
  {
   "cell_type": "code",
   "execution_count": null,
   "metadata": {
    "colab": {
     "base_uri": "https://localhost:8080/"
    },
    "id": "e83fcFVxnV3q",
    "outputId": "9f86bfe7-fdba-431b-9970-4972f3bd42b9"
   },
   "outputs": [
    {
     "name": "stdout",
     "output_type": "stream",
     "text": [
      "1 2 3 4 5 6 after loop\n"
     ]
    }
   ],
   "source": [
    "#while loop with else :\n",
    "\n",
    "i=1\n",
    "while i<7:\n",
    "  print(i,end=' ')\n",
    "  i+=1\n",
    "else :\n",
    "  print('after loop')"
   ]
  },
  {
   "cell_type": "code",
   "execution_count": 6,
   "metadata": {
    "colab": {
     "base_uri": "https://localhost:8080/"
    },
    "id": "IKrSUa0r3hFV",
    "outputId": "83b1d92c-ba8c-4845-aa4b-48a961d77372"
   },
   "outputs": [
    {
     "name": "stdout",
     "output_type": "stream",
     "text": [
      "1th attempt guess a number between 1 to 100 : 67\n",
      "guess lower\n",
      "2th attempt guess a number between 1 to 100 : 34\n",
      "guess lower\n",
      "3th attempt guess a number between 1 to 100 : 23\n",
      "guess lower\n",
      "4th attempt guess a number between 1 to 100 : 15\n",
      "guess lower\n",
      "5th attempt guess a number between 1 to 100 : 7\n",
      "correct\n"
     ]
    }
   ],
   "source": [
    "#guessing game :\n",
    "import random\n",
    "rint=random.randint(1,100)\n",
    "i=1;\n",
    "while 1:\n",
    "    n=int(input(f'{i}th attempt guess a number between 1 to 100 : '))\n",
    "    i+=1\n",
    "    if(n==rint):\n",
    "      print('correct')\n",
    "      break\n",
    "    elif n<rint:\n",
    "      print('guess higher')\n",
    "      continue\n",
    "    else:\n",
    "      print('guess lower')\n",
    "      continue\n",
    "\n"
   ]
  },
  {
   "cell_type": "code",
   "execution_count": null,
   "metadata": {
    "colab": {
     "base_uri": "https://localhost:8080/"
    },
    "id": "c2O-xueO7bLK",
    "outputId": "c7969d24-cb1a-44ea-f8ea-ce2bb8cc7669"
   },
   "outputs": [
    {
     "name": "stdout",
     "output_type": "stream",
     "text": [
      "1\n",
      "2\n",
      "3\n",
      "4\n",
      "5\n",
      "6\n",
      "7\n",
      "8\n",
      "9\n"
     ]
    }
   ],
   "source": [
    "#for loop demo :\n",
    "\n",
    "for i in range(1,10): #(included , excluded)\n",
    "  print(i)\n",
    "\n",
    "\n",
    "\n",
    "\n"
   ]
  },
  {
   "cell_type": "code",
   "execution_count": null,
   "metadata": {
    "colab": {
     "base_uri": "https://localhost:8080/"
    },
    "id": "enpY_Bze8R38",
    "outputId": "0c9f7804-b0c5-4735-c352-51154dfe2ea2"
   },
   "outputs": [
    {
     "name": "stdout",
     "output_type": "stream",
     "text": [
      "1\n",
      "3\n",
      "5\n",
      "7\n",
      "9\n"
     ]
    }
   ],
   "source": [
    "\n",
    "for i in range(1,10,2): #(included , excluded , step size)\n",
    "  print(i)"
   ]
  },
  {
   "cell_type": "code",
   "execution_count": null,
   "metadata": {
    "colab": {
     "base_uri": "https://localhost:8080/"
    },
    "id": "rQPNdiIa8VoU",
    "outputId": "8257e9ad-592d-4b14-a45e-f668c373eafc"
   },
   "outputs": [
    {
     "name": "stdout",
     "output_type": "stream",
     "text": [
      "10\n",
      "9\n",
      "8\n",
      "7\n",
      "6\n",
      "5\n",
      "4\n",
      "3\n",
      "2\n",
      "1\n"
     ]
    }
   ],
   "source": [
    "for i in range(10,0,-1):#reverse\n",
    "  print(i)"
   ]
  },
  {
   "cell_type": "code",
   "execution_count": null,
   "metadata": {
    "colab": {
     "base_uri": "https://localhost:8080/"
    },
    "id": "zJENu2JkENi-",
    "outputId": "c5032933-41ef-41b8-8969-9a7446859d20"
   },
   "outputs": [
    {
     "name": "stdout",
     "output_type": "stream",
     "text": [
      "D\n",
      "h\n",
      "a\n",
      "k\n",
      "a\n"
     ]
    }
   ],
   "source": [
    "for i in 'Dhaka':\n",
    "  print(i)"
   ]
  },
  {
   "cell_type": "code",
   "execution_count": null,
   "metadata": {
    "colab": {
     "base_uri": "https://localhost:8080/"
    },
    "id": "ZCiJzlsVESHx",
    "outputId": "9c91d4f7-aa58-42a8-e0d6-3c2d41508693"
   },
   "outputs": [
    {
     "name": "stdout",
     "output_type": "stream",
     "text": [
      "1\n",
      "2\n",
      "-88\n",
      "44\n"
     ]
    }
   ],
   "source": [
    "for i in [1,2,-88,44]:\n",
    "  print(i)"
   ]
  },
  {
   "cell_type": "code",
   "execution_count": null,
   "metadata": {
    "colab": {
     "base_uri": "https://localhost:8080/"
    },
    "id": "rZMmxrp6EcGD",
    "outputId": "5b94c69e-f8e2-4ad0-f556-cc4a97c79379"
   },
   "outputs": [
    {
     "name": "stdout",
     "output_type": "stream",
     "text": [
      "1\n",
      "2\n",
      "3\n",
      "4\n",
      "6\n"
     ]
    }
   ],
   "source": [
    "for i in (1,2,3,4,6):\n",
    "  print(i)"
   ]
  },
  {
   "cell_type": "code",
   "execution_count": 1,
   "metadata": {
    "colab": {
     "base_uri": "https://localhost:8080/"
    },
    "id": "n_oJsuhCEg5H",
    "outputId": "5b82b7b3-57fd-4ecc-b413-3796ea7b974a"
   },
   "outputs": [
    {
     "name": "stdout",
     "output_type": "stream",
     "text": [
      "1\n",
      "2\n",
      "35\n",
      "4\n",
      "5\n"
     ]
    }
   ],
   "source": [
    "for i in {1,2,35,4,5}:\n",
    "  print(i)"
   ]
  },
  {
   "cell_type": "code",
   "execution_count": 2,
   "metadata": {},
   "outputs": [
    {
     "name": "stdout",
     "output_type": "stream",
     "text": [
      "2.7182818284590455\n"
     ]
    }
   ],
   "source": [
    "#Sequence sum: 1/1!+2/2!+3/3!+....\n",
    "n=int(input('enter n : '))\n",
    "fact=1\n",
    "res=0\n",
    "for i in range(1,n+1):\n",
    "    fact*=i\n",
    "    res+=i/fact\n",
    "print(res)\n",
    "    "
   ]
  },
  {
   "cell_type": "markdown",
   "metadata": {},
   "source": [
    "5.Nested Loops : "
   ]
  },
  {
   "cell_type": "code",
   "execution_count": 3,
   "metadata": {},
   "outputs": [
    {
     "name": "stdout",
     "output_type": "stream",
     "text": [
      "*\n",
      "**\n",
      "***\n",
      "****\n",
      "*****\n",
      "******\n",
      "*******\n"
     ]
    }
   ],
   "source": [
    "#pattern 1 : \n",
    "'''\n",
    "n=3\n",
    "\n",
    "*\n",
    "**\n",
    "***\n",
    "\n",
    "'''\n",
    "\n",
    "n=int(input('enter n : '))\n",
    "\n",
    "for  i in range(1,n+1):\n",
    "    for j in range(1,i+1):\n",
    "        print('*',end='')\n",
    "    print() "
   ]
  },
  {
   "cell_type": "code",
   "execution_count": 4,
   "metadata": {},
   "outputs": [
    {
     "name": "stdout",
     "output_type": "stream",
     "text": [
      "1\n",
      "121\n",
      "12321\n",
      "1234321\n",
      "123454321\n",
      "12345654321\n",
      "1234567654321\n"
     ]
    }
   ],
   "source": [
    "#pattern 2 : \n",
    "'''\n",
    "n=4\n",
    "\n",
    "1\n",
    "121\n",
    "12321\n",
    "1234321\n",
    "\n",
    "'''\n",
    "\n",
    "n=int(input('enter n : '))\n",
    "\n",
    "for  i in range(1,n+1):\n",
    "    for j in range(1,i+1):\n",
    "        print(j,end='')\n",
    "    for k in range(i-1,0,-1):\n",
    "        print(k,end='')\n",
    "    print() "
   ]
  },
  {
   "cell_type": "markdown",
   "metadata": {},
   "source": [
    "6.Loop Control Statement : \n",
    "1. break\n",
    "2. continue\n",
    "3. pass"
   ]
  }
 ],
 "metadata": {
  "colab": {
   "provenance": []
  },
  "kernelspec": {
   "display_name": "Python 3",
   "language": "python",
   "name": "python3"
  },
  "language_info": {
   "codemirror_mode": {
    "name": "ipython",
    "version": 3
   },
   "file_extension": ".py",
   "mimetype": "text/x-python",
   "name": "python",
   "nbconvert_exporter": "python",
   "pygments_lexer": "ipython3",
   "version": "3.10.12"
  }
 },
 "nbformat": 4,
 "nbformat_minor": 4
}
