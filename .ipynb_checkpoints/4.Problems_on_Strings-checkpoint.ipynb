{
 "cells": [
  {
   "cell_type": "code",
   "execution_count": 2,
   "metadata": {},
   "outputs": [
    {
     "name": "stdout",
     "output_type": "stream",
     "text": [
      "11\n"
     ]
    }
   ],
   "source": [
    "# 1. find the length of the given string without using len function:\n",
    "\n",
    "s=str(input('enter a stirng : '))\n",
    "cnt=0\n",
    "for i in s:\n",
    "    cnt+=1\n",
    "print(cnt)"
   ]
  },
  {
   "cell_type": "code",
   "execution_count": 7,
   "metadata": {},
   "outputs": [
    {
     "name": "stdout",
     "output_type": "stream",
     "text": [
      "alviRahman\n"
     ]
    }
   ],
   "source": [
    "# 2. extract user name from given email : \n",
    "email='alviRahman@gmail.com'\n",
    "pos=email.find('@')\n",
    "print(email[0:pos])\n",
    "\n"
   ]
  },
  {
   "cell_type": "code",
   "execution_count": 2,
   "metadata": {},
   "outputs": [
    {
     "name": "stdout",
     "output_type": "stream",
     "text": [
      "2\n"
     ]
    }
   ],
   "source": [
    "# 3.count the frequency of a particular char in a string : \n",
    "\n",
    "s=str(input('enter string : '))\n",
    "char=str(input('enter char : '))\n",
    "cnt=0\n",
    "\n",
    "for i in s:\n",
    "    if i==char:\n",
    "        cnt+=1\n",
    "print(cnt)"
   ]
  },
  {
   "cell_type": "code",
   "execution_count": 3,
   "metadata": {},
   "outputs": [
    {
     "name": "stdout",
     "output_type": "stream",
     "text": [
      "hell wrld\n"
     ]
    }
   ],
   "source": [
    "# 4. remove a particular char from a string : \n",
    "s=str(input('enter string : '))\n",
    "ch=str(input('enter char you want to remove : '))\n",
    "res=''\n",
    "for i in s:\n",
    "    if i==ch:\n",
    "        continue\n",
    "    else:\n",
    "        res+=i\n",
    "print(res)"
   ]
  },
  {
   "cell_type": "code",
   "execution_count": null,
   "metadata": {},
   "outputs": [
    {
     "name": "stdout",
     "output_type": "stream",
     "text": [
      "not a palindrome\n"
     ]
    }
   ],
   "source": [
    "# 5. write a prog to check the string is palindrome or not : \n",
    "\n",
    "s=str(input('enter string : '))\n",
    "flag=True\n",
    "for i in range(0,len(s)//2):\n",
    "    if(s[i]!=s[len(s)-1-i]):\n",
    "        flag=False\n",
    "        break\n",
    "if(flag):\n",
    "    print('palindrome')\n",
    "else:\n",
    "    print('not a palindrome')\n",
    "         \n",
    "    "
   ]
  },
  {
   "cell_type": "code",
   "execution_count": 10,
   "metadata": {},
   "outputs": [
    {
     "name": "stdout",
     "output_type": "stream",
     "text": [
      "['hello', 'world']\n"
     ]
    }
   ],
   "source": [
    "# 6. write a prog to print the number of words : \n",
    "\n",
    "s=str(input('enter string : '))\n",
    "temp=''\n",
    "L=[]\n",
    "for i in s:\n",
    "    if i!=' ':\n",
    "        temp+=i\n",
    "    else:\n",
    "        L.append(temp)\n",
    "        temp=''\n",
    "L.append(temp)\n",
    "print(L)\n",
    "        \n"
   ]
  },
  {
   "cell_type": "code",
   "execution_count": 21,
   "metadata": {},
   "outputs": [
    {
     "name": "stdout",
     "output_type": "stream",
     "text": [
      "Hi How Are You\n"
     ]
    }
   ],
   "source": [
    "# 7. convert title case : \n",
    "s='hi how are you'\n",
    "L=[]\n",
    "for i in s.split():\n",
    "    L.append(i[0].upper()+i[1:].lower())\n",
    "s=\" \".join(L)\n",
    "print(s)"
   ]
  },
  {
   "cell_type": "code",
   "execution_count": 23,
   "metadata": {},
   "outputs": [
    {
     "name": "stdout",
     "output_type": "stream",
     "text": [
      "567\n",
      "<class 'str'>\n"
     ]
    }
   ],
   "source": [
    "# 8. convert the number into a string : \n",
    "num=int(input('enter num : '))\n",
    "digit='0123456789'\n",
    "res=''\n",
    "\n",
    "\n",
    "while num:\n",
    "    last_dgt=num%10\n",
    "    res=digit[last_dgt]+res\n",
    "    num//=10\n",
    "print(res)\n",
    "print(type(res))\n"
   ]
  }
 ],
 "metadata": {
  "kernelspec": {
   "display_name": "Python 3",
   "language": "python",
   "name": "python3"
  },
  "language_info": {
   "codemirror_mode": {
    "name": "ipython",
    "version": 3
   },
   "file_extension": ".py",
   "mimetype": "text/x-python",
   "name": "python",
   "nbconvert_exporter": "python",
   "pygments_lexer": "ipython3",
   "version": "3.10.12"
  }
 },
 "nbformat": 4,
 "nbformat_minor": 2
}
