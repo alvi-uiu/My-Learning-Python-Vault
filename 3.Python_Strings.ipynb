{
 "cells": [
  {
   "cell_type": "markdown",
   "metadata": {},
   "source": [
    "Strings in Python : \n",
    "\n",
    "String : Sequence of Characters\n",
    "\n",
    "In Python String : Sequence of Unicode Characters\n",
    "\n",
    "\n"
   ]
  },
  {
   "cell_type": "markdown",
   "metadata": {},
   "source": [
    "1. Accessing Sub-Strings from stirngs : "
   ]
  },
  {
   "cell_type": "code",
   "execution_count": null,
   "metadata": {},
   "outputs": [
    {
     "name": "stdout",
     "output_type": "stream",
     "text": [
      "hello\n"
     ]
    }
   ],
   "source": [
    "# 1. Creating Strings : \n",
    "\n",
    "s='hello'\n",
    "s=\"hello\"    # \"it's raining \"\n",
    "s='''hello'''  # mutiline strings like writing blogs\n",
    "s=\"\"\"hello\"\"\"  # mutiline strings like writing blogs\n",
    "s=str('hello')\n",
    "\n",
    "print(s)"
   ]
  },
  {
   "cell_type": "code",
   "execution_count": 5,
   "metadata": {},
   "outputs": [
    {
     "name": "stdout",
     "output_type": "stream",
     "text": [
      "c\n"
     ]
    }
   ],
   "source": [
    "# 2. Positive indexing : \n",
    "\n",
    "s='Donald Duck'\n",
    "\n",
    "print(s[9]) "
   ]
  },
  {
   "cell_type": "code",
   "execution_count": 8,
   "metadata": {},
   "outputs": [
    {
     "name": "stdout",
     "output_type": "stream",
     "text": [
      "k\n",
      "c\n"
     ]
    }
   ],
   "source": [
    "# 3. Negetive indexing : \n",
    "\n",
    "s='Donald Duck'\n",
    "print(s[-1])\n",
    "print(s[-2])"
   ]
  },
  {
   "cell_type": "code",
   "execution_count": 26,
   "metadata": {},
   "outputs": [
    {
     "name": "stdout",
     "output_type": "stream",
     "text": [
      "Donald\n",
      " Duck\n",
      "Donald\n",
      "Dnl uk\n",
      "Da c\n",
      "kcuD dlano\n",
      "kcuD dlanoD\n"
     ]
    }
   ],
   "source": [
    "#4. Slicing :\n",
    "\n",
    "s='Donald Duck'\n",
    "print(s[0:6])\n",
    "print(s[6:])\n",
    "print(s[:6])\n",
    "print(s[0::2])\n",
    "print(s[0::3])\n",
    "print(s[10:0:-1])\n",
    "print(s[::-1]) #reverse"
   ]
  },
  {
   "cell_type": "code",
   "execution_count": null,
   "metadata": {},
   "outputs": [
    {
     "name": "stdout",
     "output_type": "stream",
     "text": [
      "Duck\n",
      "kcuD\n"
     ]
    }
   ],
   "source": [
    "# 5. Slicing with neg indexing : \n",
    "s='Donald Duck'\n",
    "print(s[-4::])\n",
    "print(s[-1:-5:-1]) # in neg indexing the first num > second num -1>-5"
   ]
  },
  {
   "cell_type": "markdown",
   "metadata": {},
   "source": [
    "2. Editing and Deleting in Strings : "
   ]
  },
  {
   "cell_type": "code",
   "execution_count": 28,
   "metadata": {},
   "outputs": [],
   "source": [
    "#Editing : Python Strings are immutable(can not be edited)\n",
    "s='Donald Duck'\n",
    "# s[0]='P' "
   ]
  },
  {
   "cell_type": "code",
   "execution_count": null,
   "metadata": {},
   "outputs": [],
   "source": [
    "# Deleting : actually not :) in terms of memory \n",
    "s='Donald Duck'\n",
    "del s # deletes the whole string \n",
    "#print(s)\n",
    "#del s[-1:-5] not allowed as strings are immutable"
   ]
  },
  {
   "cell_type": "markdown",
   "metadata": {},
   "source": [
    "3. Operations on String : \n",
    "   1. arithmetic\n",
    "   2. relational\n",
    "   3. logical \n",
    "   4. loops on strings\n",
    "   5. membership operations "
   ]
  },
  {
   "cell_type": "code",
   "execution_count": 34,
   "metadata": {},
   "outputs": [
    {
     "name": "stdout",
     "output_type": "stream",
     "text": [
      "Dhaka Bangladesh\n",
      "hello hello hello hello hello \n",
      "*******\n"
     ]
    }
   ],
   "source": [
    "# 1.arithmetic : \n",
    "\n",
    "print('Dhaka'+' '+'Bangladesh')\n",
    "print('hello '*5)\n",
    "print('*'*7)"
   ]
  },
  {
   "cell_type": "code",
   "execution_count": 36,
   "metadata": {},
   "outputs": [
    {
     "name": "stdout",
     "output_type": "stream",
     "text": [
      "False\n",
      "True\n"
     ]
    }
   ],
   "source": [
    "# 2.relational : \n",
    "\n",
    "print('canada'>'india')\n",
    "print('Dhaka'<'dhaka')"
   ]
  },
  {
   "cell_type": "code",
   "execution_count": 46,
   "metadata": {},
   "outputs": [
    {
     "name": "stdout",
     "output_type": "stream",
     "text": [
      "\n",
      "world\n",
      "world\n",
      "hello\n",
      "True\n",
      "False\n"
     ]
    }
   ],
   "source": [
    "# 3. logical : \n",
    "\n",
    "print('' and 'world') # '' means false \n",
    "print('' or 'world') # the result is true so it returns 'world' which means true\n",
    "print('hello' and 'world') # python will check if the first one is ture or not , if the first one is ture, then it will check the second one , if the second one is true also , then it will return the second one \n",
    "print('hello' or 'world') # as the first one is true so no need to go further , return true\n",
    "print(not '')\n",
    "print(not 'hello')\n"
   ]
  },
  {
   "cell_type": "code",
   "execution_count": null,
   "metadata": {},
   "outputs": [
    {
     "name": "stdout",
     "output_type": "stream",
     "text": [
      "D h a k a Gulshan\n",
      "Gulshan\n",
      "Gulshan\n",
      "Gulshan\n",
      "Gulshan\n"
     ]
    }
   ],
   "source": [
    "# 4.Loops in String : \n",
    "\n",
    "for i in 'Dhaka':\n",
    "    print(i,end=' ')\n",
    "\n",
    "for i in 'Dhaka':\n",
    "    print('Gulshan') # Gulshan will be printed 5 times "
   ]
  },
  {
   "cell_type": "code",
   "execution_count": 49,
   "metadata": {},
   "outputs": [
    {
     "name": "stdout",
     "output_type": "stream",
     "text": [
      "True\n",
      "False\n"
     ]
    }
   ],
   "source": [
    "# 5. Membership operators : \n",
    "\n",
    "print('D' in 'Dhaka')\n",
    "\n",
    "print('d' in 'Dhaka')"
   ]
  },
  {
   "cell_type": "markdown",
   "metadata": {},
   "source": [
    "4 . Functions on Strings : \n",
    "\n",
    "common functions : \n",
    " 1.len\n",
    " 2.max\n",
    " 3.min\n",
    " 4.sorted"
   ]
  },
  {
   "cell_type": "code",
   "execution_count": null,
   "metadata": {},
   "outputs": [
    {
     "data": {
      "text/plain": [
       "11"
      ]
     },
     "execution_count": 50,
     "metadata": {},
     "output_type": "execute_result"
    }
   ],
   "source": [
    "#len : \n",
    "len('hello world') "
   ]
  },
  {
   "cell_type": "code",
   "execution_count": null,
   "metadata": {},
   "outputs": [
    {
     "data": {
      "text/plain": [
       "'w'"
      ]
     },
     "execution_count": 51,
     "metadata": {},
     "output_type": "execute_result"
    }
   ],
   "source": [
    "#max : will return the one with the maximum ascii value\n",
    "max('hello world')"
   ]
  },
  {
   "cell_type": "code",
   "execution_count": 52,
   "metadata": {},
   "outputs": [
    {
     "data": {
      "text/plain": [
       "' '"
      ]
     },
     "execution_count": 52,
     "metadata": {},
     "output_type": "execute_result"
    }
   ],
   "source": [
    "#min : will return the one with the minimum ascii value\n",
    "min('hello world')"
   ]
  },
  {
   "cell_type": "code",
   "execution_count": 54,
   "metadata": {},
   "outputs": [
    {
     "data": {
      "text/plain": [
       "['w', 'r', 'o', 'o', 'l', 'l', 'l', 'h', 'e', 'd', ' ']"
      ]
     },
     "execution_count": 54,
     "metadata": {},
     "output_type": "execute_result"
    }
   ],
   "source": [
    "#sorted : will return a list or sorted chars according to ascii : \n",
    "\n",
    "sorted('hello world')\n",
    "sorted('hello world',reverse=True)"
   ]
  },
  {
   "cell_type": "markdown",
   "metadata": {},
   "source": [
    "Othter Imoportant functions : \n",
    " 1.capitalize\n",
    " 2.title\n",
    " 3.upper\n",
    " 4.lower\n",
    " 5.swapcase"
   ]
  },
  {
   "cell_type": "code",
   "execution_count": 55,
   "metadata": {},
   "outputs": [
    {
     "data": {
      "text/plain": [
       "'Hello world'"
      ]
     },
     "execution_count": 55,
     "metadata": {},
     "output_type": "execute_result"
    }
   ],
   "source": [
    "#1. capitalize : \n",
    "s='hello world'\n",
    "s.capitalize()"
   ]
  },
  {
   "cell_type": "code",
   "execution_count": 56,
   "metadata": {},
   "outputs": [
    {
     "data": {
      "text/plain": [
       "'Hello World'"
      ]
     },
     "execution_count": 56,
     "metadata": {},
     "output_type": "execute_result"
    }
   ],
   "source": [
    "# 2. title : \n",
    "\n",
    "s='hello world'\n",
    "s.title()"
   ]
  },
  {
   "cell_type": "code",
   "execution_count": 59,
   "metadata": {},
   "outputs": [
    {
     "data": {
      "text/plain": [
       "'HELLO'"
      ]
     },
     "execution_count": 59,
     "metadata": {},
     "output_type": "execute_result"
    }
   ],
   "source": [
    "# 3. upper :\n",
    "s='hello world'\n",
    "s.upper()\n",
    "'hello'.upper()"
   ]
  },
  {
   "cell_type": "code",
   "execution_count": 60,
   "metadata": {},
   "outputs": [
    {
     "data": {
      "text/plain": [
       "'hello world'"
      ]
     },
     "execution_count": 60,
     "metadata": {},
     "output_type": "execute_result"
    }
   ],
   "source": [
    "#4. lower : \n",
    "s='hello world'\n",
    "s.lower()\n"
   ]
  },
  {
   "cell_type": "code",
   "execution_count": 61,
   "metadata": {},
   "outputs": [
    {
     "data": {
      "text/plain": [
       "'hELLO wORLD'"
      ]
     },
     "execution_count": 61,
     "metadata": {},
     "output_type": "execute_result"
    }
   ],
   "source": [
    "#5.swapcase : \n",
    "s='Hello World'\n",
    "s.swapcase()"
   ]
  },
  {
   "cell_type": "markdown",
   "metadata": {},
   "source": [
    "Other important functions : \n",
    " 1. count \n",
    " 2. find \n",
    " 3. index\n",
    " 4. endswith\n",
    " 5. startswith"
   ]
  },
  {
   "cell_type": "code",
   "execution_count": 76,
   "metadata": {},
   "outputs": [
    {
     "data": {
      "text/plain": [
       "1"
      ]
     },
     "execution_count": 76,
     "metadata": {},
     "output_type": "execute_result"
    }
   ],
   "source": [
    "#count : \n",
    "s='Sheikh Hasina is ousted'\n",
    "s.count('k')\n"
   ]
  },
  {
   "cell_type": "code",
   "execution_count": 70,
   "metadata": {},
   "outputs": [
    {
     "data": {
      "text/plain": [
       "-1"
      ]
     },
     "execution_count": 70,
     "metadata": {},
     "output_type": "execute_result"
    }
   ],
   "source": [
    "# find : gives the index where it stars , if not found return -1\n",
    "s='Sheikh Hasina is ousted'\n",
    "s.find('is')\n",
    "s.find('x')"
   ]
  },
  {
   "cell_type": "code",
   "execution_count": 72,
   "metadata": {},
   "outputs": [
    {
     "data": {
      "text/plain": [
       "14"
      ]
     },
     "execution_count": 72,
     "metadata": {},
     "output_type": "execute_result"
    }
   ],
   "source": [
    "# index : gives the index where it stars , if not found return error\n",
    "s='Sheikh Hasina is ousted'\n",
    "s.index('is')\n",
    "#s.index('x')"
   ]
  },
  {
   "cell_type": "code",
   "execution_count": null,
   "metadata": {},
   "outputs": [
    {
     "data": {
      "text/plain": [
       "True"
      ]
     },
     "execution_count": 73,
     "metadata": {},
     "output_type": "execute_result"
    }
   ],
   "source": [
    "#startswith\n",
    "s='Sheikh Hasina is ousted'\n",
    "s.startswith('Sh')"
   ]
  },
  {
   "cell_type": "code",
   "execution_count": 78,
   "metadata": {},
   "outputs": [
    {
     "data": {
      "text/plain": [
       "True"
      ]
     },
     "execution_count": 78,
     "metadata": {},
     "output_type": "execute_result"
    }
   ],
   "source": [
    "#endswith \n",
    "s='Sheikh Hasina is ousted'\n",
    "s.endswith('ed')\n",
    "'Sheikh'.endswith('kh')"
   ]
  },
  {
   "cell_type": "markdown",
   "metadata": {},
   "source": [
    "Format function : "
   ]
  },
  {
   "cell_type": "code",
   "execution_count": null,
   "metadata": {},
   "outputs": [
    {
     "data": {
      "text/plain": [
       "'Hi my name is Alvi I am 24 years old'"
      ]
     },
     "execution_count": 77,
     "metadata": {},
     "output_type": "execute_result"
    }
   ],
   "source": [
    "#format : \n",
    "\n",
    "name='Alvi'\n",
    "age=24\n",
    "\n",
    "'Hi my name is {} I am {} years old'.format(name,age)\n"
   ]
  },
  {
   "cell_type": "code",
   "execution_count": 79,
   "metadata": {},
   "outputs": [
    {
     "data": {
      "text/plain": [
       "'Hi my name is Alvi I am 24 years old'"
      ]
     },
     "execution_count": 79,
     "metadata": {},
     "output_type": "execute_result"
    }
   ],
   "source": [
    "name='Alvi'\n",
    "age=24\n",
    "\n",
    "'Hi my name is {1} I am {0} years old'.format(age,name)"
   ]
  },
  {
   "cell_type": "markdown",
   "metadata": {},
   "source": [
    "more functions : \n",
    " 1. isalnum\n",
    " 3. isalpha\n",
    " 4. isdigit\n",
    " 5. isidentifier"
   ]
  },
  {
   "cell_type": "code",
   "execution_count": null,
   "metadata": {},
   "outputs": [
    {
     "data": {
      "text/plain": [
       "True"
      ]
     },
     "execution_count": 80,
     "metadata": {},
     "output_type": "execute_result"
    }
   ],
   "source": [
    "# isalnum : alpha-numeric ?\n",
    "'123abc'.isalnum()"
   ]
  },
  {
   "cell_type": "code",
   "execution_count": 82,
   "metadata": {},
   "outputs": [
    {
     "data": {
      "text/plain": [
       "True"
      ]
     },
     "execution_count": 82,
     "metadata": {},
     "output_type": "execute_result"
    }
   ],
   "source": [
    "#isalpha : alphabet ?\n",
    "'ahc'.isalpha()"
   ]
  },
  {
   "cell_type": "code",
   "execution_count": 83,
   "metadata": {},
   "outputs": [
    {
     "data": {
      "text/plain": [
       "True"
      ]
     },
     "execution_count": 83,
     "metadata": {},
     "output_type": "execute_result"
    }
   ],
   "source": [
    "#isdigit : \n",
    "\n",
    "'123'.isdigit()"
   ]
  },
  {
   "cell_type": "code",
   "execution_count": 85,
   "metadata": {},
   "outputs": [
    {
     "data": {
      "text/plain": [
       "True"
      ]
     },
     "execution_count": 85,
     "metadata": {},
     "output_type": "execute_result"
    }
   ],
   "source": [
    "#isidentifier : \n",
    "\n",
    "'1name'.isidentifier()\n",
    "'name1'.isidentifier()"
   ]
  },
  {
   "cell_type": "markdown",
   "metadata": {},
   "source": [
    "Split/Join function : "
   ]
  },
  {
   "cell_type": "code",
   "execution_count": 89,
   "metadata": {},
   "outputs": [
    {
     "name": "stdout",
     "output_type": "stream",
     "text": [
      "['hi', 'my', 'name', 'is', 'Alvi']\n",
      "['h', ' my name ', 's Alv', '']\n",
      "['hi my name ', ' Alvi']\n"
     ]
    }
   ],
   "source": [
    "#split : \n",
    "s='hi my name is Alvi'\n",
    "print(s.split())\n",
    "print(s.split('i'))\n",
    "print(s.split('is'))\n"
   ]
  },
  {
   "cell_type": "code",
   "execution_count": null,
   "metadata": {},
   "outputs": [
    {
     "name": "stdout",
     "output_type": "stream",
     "text": [
      "hi my name is Alvi\n",
      "hi-my-name-is-Alvi\n"
     ]
    }
   ],
   "source": [
    "#join : \n",
    "\n",
    "print(' '.join(['hi', 'my', 'name', 'is', 'Alvi']))\n",
    "print('-'.join(['hi', 'my', 'name', 'is', 'Alvi']))\n",
    " \n"
   ]
  },
  {
   "cell_type": "markdown",
   "metadata": {},
   "source": [
    "Replace & Strip function : "
   ]
  },
  {
   "cell_type": "code",
   "execution_count": null,
   "metadata": {},
   "outputs": [
    {
     "data": {
      "text/plain": [
       "'I am from Manikganj'"
      ]
     },
     "execution_count": 97,
     "metadata": {},
     "output_type": "execute_result"
    }
   ],
   "source": [
    "#replace : \n",
    "'I am from Dhaka'.replace('Dhaka','Manikganj')"
   ]
  },
  {
   "cell_type": "code",
   "execution_count": 101,
   "metadata": {},
   "outputs": [
    {
     "data": {
      "text/plain": [
       "'Alvi'"
      ]
     },
     "execution_count": 101,
     "metadata": {},
     "output_type": "execute_result"
    }
   ],
   "source": [
    "#stirp : \n",
    "'Alvi                      '.strip()"
   ]
  }
 ],
 "metadata": {
  "kernelspec": {
   "display_name": "Python 3",
   "language": "python",
   "name": "python3"
  },
  "language_info": {
   "codemirror_mode": {
    "name": "ipython",
    "version": 3
   },
   "file_extension": ".py",
   "mimetype": "text/x-python",
   "name": "python",
   "nbconvert_exporter": "python",
   "pygments_lexer": "ipython3",
   "version": "3.10.12"
  }
 },
 "nbformat": 4,
 "nbformat_minor": 2
}
