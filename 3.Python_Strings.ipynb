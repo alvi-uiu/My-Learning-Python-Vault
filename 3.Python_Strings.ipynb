{
 "cells": [
  {
   "cell_type": "markdown",
   "metadata": {},
   "source": [
    "Strings in Python : \n",
    "\n",
    "String : Sequence of Characters\n",
    "\n",
    "In Python String : Sequence of Unicode Characters\n",
    "\n",
    "\n"
   ]
  },
  {
   "cell_type": "markdown",
   "metadata": {},
   "source": [
    "1. Accessing Sub-Strings from stirngs : "
   ]
  },
  {
   "cell_type": "code",
   "execution_count": null,
   "metadata": {},
   "outputs": [
    {
     "name": "stdout",
     "output_type": "stream",
     "text": [
      "hello\n"
     ]
    }
   ],
   "source": [
    "# 1. Creating Strings : \n",
    "\n",
    "s='hello'\n",
    "s=\"hello\"    # \"it's raining \"\n",
    "s='''hello'''  # mutiline strings like writing blogs\n",
    "s=\"\"\"hello\"\"\"  # mutiline strings like writing blogs\n",
    "s=str('hello')\n",
    "\n",
    "print(s)"
   ]
  },
  {
   "cell_type": "code",
   "execution_count": 5,
   "metadata": {},
   "outputs": [
    {
     "name": "stdout",
     "output_type": "stream",
     "text": [
      "c\n"
     ]
    }
   ],
   "source": [
    "# 2. Positive indexing : \n",
    "\n",
    "s='Donald Duck'\n",
    "\n",
    "print(s[9]) "
   ]
  },
  {
   "cell_type": "code",
   "execution_count": 8,
   "metadata": {},
   "outputs": [
    {
     "name": "stdout",
     "output_type": "stream",
     "text": [
      "k\n",
      "c\n"
     ]
    }
   ],
   "source": [
    "# 3. Negetive indexing : \n",
    "\n",
    "s='Donald Duck'\n",
    "print(s[-1])\n",
    "print(s[-2])"
   ]
  },
  {
   "cell_type": "code",
   "execution_count": 26,
   "metadata": {},
   "outputs": [
    {
     "name": "stdout",
     "output_type": "stream",
     "text": [
      "Donald\n",
      " Duck\n",
      "Donald\n",
      "Dnl uk\n",
      "Da c\n",
      "kcuD dlano\n",
      "kcuD dlanoD\n"
     ]
    }
   ],
   "source": [
    "#4. Slicing :\n",
    "\n",
    "s='Donald Duck'\n",
    "print(s[0:6])\n",
    "print(s[6:])\n",
    "print(s[:6])\n",
    "print(s[0::2])\n",
    "print(s[0::3])\n",
    "print(s[10:0:-1])\n",
    "print(s[::-1]) #reverse"
   ]
  },
  {
   "cell_type": "code",
   "execution_count": null,
   "metadata": {},
   "outputs": [
    {
     "name": "stdout",
     "output_type": "stream",
     "text": [
      "Duck\n",
      "kcuD\n"
     ]
    }
   ],
   "source": [
    "# 5. Slicing with neg indexing : \n",
    "s='Donald Duck'\n",
    "print(s[-4::])\n",
    "print(s[-1:-5:-1]) # in neg indexing the first num > second num -1>-5"
   ]
  },
  {
   "cell_type": "markdown",
   "metadata": {},
   "source": [
    "2. Editing and Deleting in Strings : "
   ]
  },
  {
   "cell_type": "code",
   "execution_count": 28,
   "metadata": {},
   "outputs": [],
   "source": [
    "#Editing : Python Strings are immutable(can not be edited)\n",
    "s='Donald Duck'\n",
    "# s[0]='P' "
   ]
  },
  {
   "cell_type": "code",
   "execution_count": null,
   "metadata": {},
   "outputs": [],
   "source": [
    "# Deleting : actually not :) in terms of memory \n",
    "s='Donald Duck'\n",
    "del s # deletes the whole string \n",
    "#print(s)\n",
    "#del s[-1:-5] not allowed as strings are immutable"
   ]
  },
  {
   "cell_type": "markdown",
   "metadata": {},
   "source": [
    "3. Operations on String : \n",
    "   1. arithmetic\n",
    "   2. relational\n",
    "   3. logical \n",
    "   4. loops on strings\n",
    "   5. membership operations "
   ]
  },
  {
   "cell_type": "code",
   "execution_count": 34,
   "metadata": {},
   "outputs": [
    {
     "name": "stdout",
     "output_type": "stream",
     "text": [
      "Dhaka Bangladesh\n",
      "hello hello hello hello hello \n",
      "*******\n"
     ]
    }
   ],
   "source": [
    "# 1.arithmetic : \n",
    "\n",
    "print('Dhaka'+' '+'Bangladesh')\n",
    "print('hello '*5)\n",
    "print('*'*7)"
   ]
  },
  {
   "cell_type": "code",
   "execution_count": 36,
   "metadata": {},
   "outputs": [
    {
     "name": "stdout",
     "output_type": "stream",
     "text": [
      "False\n",
      "True\n"
     ]
    }
   ],
   "source": [
    "# 2.relational : \n",
    "\n",
    "print('canada'>'india')\n",
    "print('Dhaka'<'dhaka')"
   ]
  },
  {
   "cell_type": "code",
   "execution_count": 46,
   "metadata": {},
   "outputs": [
    {
     "name": "stdout",
     "output_type": "stream",
     "text": [
      "\n",
      "world\n",
      "world\n",
      "hello\n",
      "True\n",
      "False\n"
     ]
    }
   ],
   "source": [
    "# 3. logical : \n",
    "\n",
    "print('' and 'world') # '' means false \n",
    "print('' or 'world') # the result is true so it returns 'world' which means true\n",
    "print('hello' and 'world') # python will check if the first one is ture or not , if the first one is ture, then it will check the second one , if the second one is true also , then it will return the second one \n",
    "print('hello' or 'world') # as the first one is true so no need to go further , return true\n",
    "print(not '')\n",
    "print(not 'hello')\n"
   ]
  },
  {
   "cell_type": "code",
   "execution_count": null,
   "metadata": {},
   "outputs": [
    {
     "name": "stdout",
     "output_type": "stream",
     "text": [
      "D h a k a Gulshan\n",
      "Gulshan\n",
      "Gulshan\n",
      "Gulshan\n",
      "Gulshan\n"
     ]
    }
   ],
   "source": [
    "# 4.Loops in String : \n",
    "\n",
    "for i in 'Dhaka':\n",
    "    print(i,end=' ')\n",
    "\n",
    "for i in 'Dhaka':\n",
    "    print('Gulshan') # Gulshan will be printed 5 times "
   ]
  },
  {
   "cell_type": "code",
   "execution_count": 49,
   "metadata": {},
   "outputs": [
    {
     "name": "stdout",
     "output_type": "stream",
     "text": [
      "True\n",
      "False\n"
     ]
    }
   ],
   "source": [
    "# 5. Membership operators : \n",
    "\n",
    "print('D' in 'Dhaka')\n",
    "\n",
    "print('d' in 'Dhaka')"
   ]
  }
 ],
 "metadata": {
  "kernelspec": {
   "display_name": "Python 3",
   "language": "python",
   "name": "python3"
  },
  "language_info": {
   "codemirror_mode": {
    "name": "ipython",
    "version": 3
   },
   "file_extension": ".py",
   "mimetype": "text/x-python",
   "name": "python",
   "nbconvert_exporter": "python",
   "pygments_lexer": "ipython3",
   "version": "3.10.12"
  }
 },
 "nbformat": 4,
 "nbformat_minor": 2
}
