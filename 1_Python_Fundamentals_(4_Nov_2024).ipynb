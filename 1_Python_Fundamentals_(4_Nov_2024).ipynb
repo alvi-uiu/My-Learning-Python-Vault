{
  "nbformat": 4,
  "nbformat_minor": 0,
  "metadata": {
    "colab": {
      "provenance": []
    },
    "kernelspec": {
      "name": "python3",
      "display_name": "Python 3"
    },
    "language_info": {
      "name": "python"
    }
  },
  "cells": [
    {
      "cell_type": "markdown",
      "source": [
        "# 1. Python Output :"
      ],
      "metadata": {
        "id": "TZTbtZ-VXtxQ"
      }
    },
    {
      "cell_type": "code",
      "source": [
        "#python is a case-sensitive language :\n",
        "#Print(\"Hello World\")  -> error\n",
        "print(\"Hello World ! \")"
      ],
      "metadata": {
        "colab": {
          "base_uri": "https://localhost:8080/"
        },
        "id": "-NzPsv09XxQF",
        "outputId": "60c11cae-2dca-435f-e103-a1605eebd0f6"
      },
      "execution_count": 3,
      "outputs": [
        {
          "output_type": "stream",
          "name": "stdout",
          "text": [
            "Hello World ! \n"
          ]
        }
      ]
    },
    {
      "cell_type": "code",
      "source": [
        "#print(Donald Duck)"
      ],
      "metadata": {
        "id": "vm5UZtgCZstp"
      },
      "execution_count": 5,
      "outputs": []
    },
    {
      "cell_type": "markdown",
      "source": [
        "Without quotes, Python interprets Donald and Duck as variables or identifiers, but they aren’t defined, which raises a NameError"
      ],
      "metadata": {
        "id": "y731Km16Z-aV"
      }
    },
    {
      "cell_type": "markdown",
      "source": [
        "we can print multiple types of data types by print function :"
      ],
      "metadata": {
        "id": "uWE4p0yoaaMz"
      }
    },
    {
      "cell_type": "code",
      "source": [
        "print(777)"
      ],
      "metadata": {
        "colab": {
          "base_uri": "https://localhost:8080/"
        },
        "id": "5pP1pod2afhU",
        "outputId": "ecc69c43-c942-4de3-c644-f0e3dd9790e5"
      },
      "execution_count": 6,
      "outputs": [
        {
          "output_type": "stream",
          "name": "stdout",
          "text": [
            "777\n"
          ]
        }
      ]
    },
    {
      "cell_type": "code",
      "source": [
        "print(77,99)"
      ],
      "metadata": {
        "colab": {
          "base_uri": "https://localhost:8080/"
        },
        "id": "DgArKe88aj1K",
        "outputId": "3d793601-a4e5-4101-d263-4b7ecf6110de"
      },
      "execution_count": 7,
      "outputs": [
        {
          "output_type": "stream",
          "name": "stdout",
          "text": [
            "77 99\n"
          ]
        }
      ]
    },
    {
      "cell_type": "code",
      "source": [
        "# we can also print different types of datatypes at once :\n",
        "\n",
        "print(\"Dolald Duck\",77.99,77, True)"
      ],
      "metadata": {
        "colab": {
          "base_uri": "https://localhost:8080/"
        },
        "id": "3iIwoGC1aoxi",
        "outputId": "78cb94e7-e74d-476d-f3bc-6845fe88b63f"
      },
      "execution_count": 8,
      "outputs": [
        {
          "output_type": "stream",
          "name": "stdout",
          "text": [
            "Dolald Duck 77.99 77 True\n"
          ]
        }
      ]
    },
    {
      "cell_type": "markdown",
      "source": [
        "Q: why the answers are separeted with spaces ?\n",
        "A : because inside print function there is a separator, and by default its valued with a space,\n",
        "but we can overwrite it."
      ],
      "metadata": {
        "id": "R6MCmrDAa8Hk"
      }
    },
    {
      "cell_type": "code",
      "source": [
        "print(\"Dolald Duck\",77.99,77, True , sep='/')"
      ],
      "metadata": {
        "colab": {
          "base_uri": "https://localhost:8080/"
        },
        "id": "oRjK678vbP_S",
        "outputId": "7c7ab824-e89a-4cb7-b86e-0f91b3220dd3"
      },
      "execution_count": 9,
      "outputs": [
        {
          "output_type": "stream",
          "name": "stdout",
          "text": [
            "Dolald Duck/77.99/77/True\n"
          ]
        }
      ]
    },
    {
      "cell_type": "code",
      "source": [
        "print(\"First line\")\n",
        "print(\"Second line\")"
      ],
      "metadata": {
        "colab": {
          "base_uri": "https://localhost:8080/"
        },
        "id": "2lAdIN_vcG6I",
        "outputId": "cc1ea796-da88-47d6-d579-8f2dbc77402c"
      },
      "execution_count": 10,
      "outputs": [
        {
          "output_type": "stream",
          "name": "stdout",
          "text": [
            "First line\n",
            "Second line\n"
          ]
        }
      ]
    },
    {
      "cell_type": "markdown",
      "source": [
        "Q : why these two output came  in two lines ?\n",
        "A : its again because of a setting inside print function which by default prints a new line , we can overwrite it as well."
      ],
      "metadata": {
        "id": "j5WyGWOicRrB"
      }
    },
    {
      "cell_type": "code",
      "source": [
        "print(\"First line\",end='-')\n",
        "print(\"Second line\")"
      ],
      "metadata": {
        "colab": {
          "base_uri": "https://localhost:8080/"
        },
        "id": "433yNcaIcuPt",
        "outputId": "6048b9d2-e300-4fbb-a838-22eb93af7d3c"
      },
      "execution_count": 11,
      "outputs": [
        {
          "output_type": "stream",
          "name": "stdout",
          "text": [
            "First line-Second line\n"
          ]
        }
      ]
    },
    {
      "cell_type": "markdown",
      "source": [
        "# 2. Python Data-Types :"
      ],
      "metadata": {
        "id": "qa_zpgS6dQY0"
      }
    },
    {
      "cell_type": "code",
      "source": [
        "# Int :\n",
        "print(77)\n",
        "print(-99)\n",
        "print(1e308) # limit\n",
        "print(1e309)"
      ],
      "metadata": {
        "colab": {
          "base_uri": "https://localhost:8080/"
        },
        "id": "67EDTd3OdUqM",
        "outputId": "49c2a855-0eb9-4d50-9a86-1ab3ce343d11"
      },
      "execution_count": 14,
      "outputs": [
        {
          "output_type": "stream",
          "name": "stdout",
          "text": [
            "77\n",
            "-99\n",
            "1e+308\n",
            "inf\n"
          ]
        }
      ]
    },
    {
      "cell_type": "code",
      "source": [
        "#Decimal/Float :\n",
        "print(77.99)\n",
        "print(-99,66)\n",
        "print(1.7e308)#limit\n",
        "print(1.7e309)\n"
      ],
      "metadata": {
        "colab": {
          "base_uri": "https://localhost:8080/"
        },
        "id": "k7tYj3KeeHFA",
        "outputId": "4710dfa8-2ae9-438a-8720-230c196c5e2a"
      },
      "execution_count": 15,
      "outputs": [
        {
          "output_type": "stream",
          "name": "stdout",
          "text": [
            "77.99\n",
            "-99 66\n",
            "1.7e+308\n",
            "inf\n"
          ]
        }
      ]
    },
    {
      "cell_type": "code",
      "source": [
        "# Boolean :\n",
        "print(True)\n",
        "print(False)"
      ],
      "metadata": {
        "colab": {
          "base_uri": "https://localhost:8080/"
        },
        "id": "CA7kyfhUeeAA",
        "outputId": "7b0535a1-5bb8-41d6-9bd1-5c944a8d1ab0"
      },
      "execution_count": 16,
      "outputs": [
        {
          "output_type": "stream",
          "name": "stdout",
          "text": [
            "True\n",
            "False\n"
          ]
        }
      ]
    },
    {
      "cell_type": "code",
      "source": [
        "# Text/String :\n",
        "print(\"Hola\")\n",
        "print('Hoomans')"
      ],
      "metadata": {
        "colab": {
          "base_uri": "https://localhost:8080/"
        },
        "id": "vipAvoutexbg",
        "outputId": "527e9f55-b24f-4123-d45a-e62ed9d82102"
      },
      "execution_count": 17,
      "outputs": [
        {
          "output_type": "stream",
          "name": "stdout",
          "text": [
            "Hola\n",
            "Hoomans\n"
          ]
        }
      ]
    },
    {
      "cell_type": "code",
      "source": [
        "# complex numbers :\n",
        "print(7+9j)"
      ],
      "metadata": {
        "colab": {
          "base_uri": "https://localhost:8080/"
        },
        "id": "wXziATxze-lV",
        "outputId": "d8f8fc72-690a-4173-acd3-76529edd446c"
      },
      "execution_count": 18,
      "outputs": [
        {
          "output_type": "stream",
          "name": "stdout",
          "text": [
            "(7+9j)\n"
          ]
        }
      ]
    },
    {
      "cell_type": "code",
      "source": [
        "# List (similar to arrays)\n",
        "\n",
        "print([1,2,3,4,5,6,7])"
      ],
      "metadata": {
        "colab": {
          "base_uri": "https://localhost:8080/"
        },
        "id": "S61EKfzzfDph",
        "outputId": "5619d489-f1dd-44dc-b1d4-1b227cf532bd"
      },
      "execution_count": 19,
      "outputs": [
        {
          "output_type": "stream",
          "name": "stdout",
          "text": [
            "[1, 2, 3, 4, 5, 6, 7]\n"
          ]
        }
      ]
    },
    {
      "cell_type": "code",
      "source": [
        "# Touple  :\n",
        "print((1,2,3,4,5,6,7))"
      ],
      "metadata": {
        "colab": {
          "base_uri": "https://localhost:8080/"
        },
        "id": "PJcMZ-SOfSbB",
        "outputId": "f56611db-d3aa-4976-8548-b2cdc374cf31"
      },
      "execution_count": 20,
      "outputs": [
        {
          "output_type": "stream",
          "name": "stdout",
          "text": [
            "(1, 2, 3, 4, 5, 6, 7)\n"
          ]
        }
      ]
    },
    {
      "cell_type": "code",
      "source": [
        "# Set :\n",
        "print({1,2,3,4,5,6,7,7})"
      ],
      "metadata": {
        "colab": {
          "base_uri": "https://localhost:8080/"
        },
        "id": "MZ8TmO17fmnz",
        "outputId": "00f40bc8-4b88-4fe5-aba2-e293d97b2d00"
      },
      "execution_count": 22,
      "outputs": [
        {
          "output_type": "stream",
          "name": "stdout",
          "text": [
            "{1, 2, 3, 4, 5, 6, 7}\n"
          ]
        }
      ]
    },
    {
      "cell_type": "code",
      "source": [
        "# Dictionary :\n",
        "print({'name':'Alvi','gender':'male','Age':'22'})"
      ],
      "metadata": {
        "colab": {
          "base_uri": "https://localhost:8080/"
        },
        "id": "IcGuZq7lfwEq",
        "outputId": "f914741f-d989-403a-88a4-d52f08eae8b6"
      },
      "execution_count": 23,
      "outputs": [
        {
          "output_type": "stream",
          "name": "stdout",
          "text": [
            "{'name': 'Alvi', 'gender': 'male', 'Age': '22'}\n"
          ]
        }
      ]
    },
    {
      "cell_type": "code",
      "source": [
        "# Type function :\n",
        "#type(77)\n",
        "#type(\"okay\")\n",
        "type(True)"
      ],
      "metadata": {
        "colab": {
          "base_uri": "https://localhost:8080/"
        },
        "id": "1zqniNIlge2l",
        "outputId": "27492e0b-bf02-48ad-b143-4516f2c0c9da"
      },
      "execution_count": 26,
      "outputs": [
        {
          "output_type": "execute_result",
          "data": {
            "text/plain": [
              "bool"
            ]
          },
          "metadata": {},
          "execution_count": 26
        }
      ]
    },
    {
      "cell_type": "markdown",
      "source": [
        "# 3.Python Variables :"
      ],
      "metadata": {
        "id": "E05kICSygtoF"
      }
    },
    {
      "cell_type": "markdown",
      "source": [
        "Variables : they are containers for future use ."
      ],
      "metadata": {
        "id": "ujnZRkRGgyn0"
      }
    },
    {
      "cell_type": "code",
      "source": [
        "name = 'ALvi'\n",
        "print(name)\n",
        "a=99\n",
        "b=77\n",
        "print(a+b)"
      ],
      "metadata": {
        "colab": {
          "base_uri": "https://localhost:8080/"
        },
        "id": "T-V14vHxg8QM",
        "outputId": "7f4966d6-119c-4930-8e7b-813aa36c3f6f"
      },
      "execution_count": 27,
      "outputs": [
        {
          "output_type": "stream",
          "name": "stdout",
          "text": [
            "ALvi\n",
            "176\n"
          ]
        }
      ]
    },
    {
      "cell_type": "code",
      "source": [
        "# Dynamic typing : python interpreter automatically gives data type of the variable based on the given value\n",
        "name = 'Monkey D Luffy'\n",
        "age = 25\n",
        "\n",
        "# Static typing : have to explicitly mention each datatype of the variable :\n",
        "#string name = \"Sheikh Mujib\""
      ],
      "metadata": {
        "id": "mMDkuVD2hg79"
      },
      "execution_count": 28,
      "outputs": []
    },
    {
      "cell_type": "code",
      "source": [
        "# Dynamic Binding : in python a variable can hold multiple types of data in the same program.\n",
        "\n",
        "a=\"Duck\"\n",
        "print(a)\n",
        "a=7777\n",
        "print(a)\n",
        "\n",
        "\n",
        "# Static Binding : a variable cant cant hold multiple types of data in the same program\n",
        "#int a = 77\n",
        "# a = \"Donald\"  - > error\n"
      ],
      "metadata": {
        "colab": {
          "base_uri": "https://localhost:8080/"
        },
        "id": "7raAuJU4icGk",
        "outputId": "b99b97a4-c828-4e39-fd82-80b49b042acb"
      },
      "execution_count": 30,
      "outputs": [
        {
          "output_type": "stream",
          "name": "stdout",
          "text": [
            "Duck\n",
            "7777\n"
          ]
        }
      ]
    },
    {
      "cell_type": "code",
      "source": [
        "# cool ways of declaring variables :\n",
        "\n",
        "a,b,c=1,2,3\n",
        "print(a,b,c)\n",
        "\n",
        "d=e=f=7;\n",
        "print(d,e,f)"
      ],
      "metadata": {
        "colab": {
          "base_uri": "https://localhost:8080/"
        },
        "id": "dNRUE8JbjPtl",
        "outputId": "348081bf-b2f4-49b9-89e7-07c76ada859c"
      },
      "execution_count": 31,
      "outputs": [
        {
          "output_type": "stream",
          "name": "stdout",
          "text": [
            "1 2 3\n",
            "7 7 7\n"
          ]
        }
      ]
    },
    {
      "cell_type": "markdown",
      "source": [
        "# 4. Keywords & Identifiers :"
      ],
      "metadata": {
        "id": "xi94oYUKmucO"
      }
    },
    {
      "cell_type": "markdown",
      "source": [
        "Keywords :\n",
        "\n",
        "The code that we write , needs to be compiled to machine code because the machines/chips understand only machine lang.\n",
        "\n",
        "compiler : compile the whole code to machine code at once.\n",
        "\n",
        "interpreter : it compiles line by line\n",
        "\n",
        "Now to understand the machine while compiling about the instructions that user gives , there are some reserved words ,\n",
        "these reserved words are called keywords.\n",
        "\n",
        "we cant create variable names same as keyword name\n",
        "there are total 32 keywords in Python : if, True , False , ....\n"
      ],
      "metadata": {
        "id": "M2T5eHcdnvjO"
      }
    },
    {
      "cell_type": "markdown",
      "source": [
        "Identifiers:\n",
        "Identifiers are the names that user gives to a varible , class ..."
      ],
      "metadata": {
        "id": "yD4NLsrRpZSm"
      }
    },
    {
      "cell_type": "code",
      "source": [
        "# identifer rules :\n",
        "\n",
        "# 1 names cant start with digit :\n",
        "\n",
        "#1age=7;\n",
        "age1=9;\n",
        "\n",
        "# 2 only one special char is allowed : _\n",
        "\n",
        "_name='Donald'\n",
        "\n",
        "print (_name)\n",
        "\n",
        "_='Duck'\n",
        "print(_);\n",
        "\n",
        "\n",
        "# 3 Identifiers can not be keywords : if, True , else\n",
        "\n",
        "\n"
      ],
      "metadata": {
        "colab": {
          "base_uri": "https://localhost:8080/"
        },
        "id": "ef9fJeETroU9",
        "outputId": "8c9316e5-deb5-47a1-a582-cf69b35f2453"
      },
      "execution_count": 35,
      "outputs": [
        {
          "output_type": "stream",
          "name": "stdout",
          "text": [
            "Donald\n",
            "Duck\n"
          ]
        }
      ]
    },
    {
      "cell_type": "markdown",
      "source": [
        "# 5. User Input :"
      ],
      "metadata": {
        "id": "Fvtimc4R05bJ"
      }
    },
    {
      "cell_type": "code",
      "source": [
        "# Static vs Dynamic software :\n",
        "# static : where user only receives information\n",
        "# dynamic : where user gives input and can interact\n",
        "\n",
        "# write a program , user gives two input and adds them\n",
        "\n",
        "## steps :\n",
        "\n",
        "#  take inputs from user\n",
        "fnum=input('enter first num')\n",
        "snum=input('enter second num')\n",
        "#  add them\n",
        "result=fnum+snum\n",
        "#  print them\n",
        "print(result)\n",
        "\n",
        "# why result just added the two input as strings ?\n",
        "\n",
        "print(type(fnum),type(snum))\n",
        "# python stored the input as string : because string is a universal data format means any data type can be converted to string, so to get rid of unexpected error python converts the input into string\n",
        "\n",
        "\n"
      ],
      "metadata": {
        "colab": {
          "base_uri": "https://localhost:8080/"
        },
        "id": "jPJGmILTxkeo",
        "outputId": "75b6cd4a-da81-41c9-cced-5dca055a41b2"
      },
      "execution_count": 39,
      "outputs": [
        {
          "output_type": "stream",
          "name": "stdout",
          "text": [
            "enter first num6\n",
            "enter second num9\n",
            "69\n",
            "<class 'str'> <class 'str'>\n"
          ]
        }
      ]
    },
    {
      "cell_type": "markdown",
      "source": [
        "# 6. Type Conversion :"
      ],
      "metadata": {
        "id": "QCGM5y571DWI"
      }
    },
    {
      "cell_type": "code",
      "source": [
        "# Implicit vs Explicit type conversion :\n",
        "\n",
        "# Implicit : when python automatically detects the given data type\n",
        "\n",
        "print(7+9.5) # two different datatypes\n",
        "print(type(7),type(9.5))\n",
        "\n",
        "#but it does not work always :\n",
        "#print(7+'7')"
      ],
      "metadata": {
        "colab": {
          "base_uri": "https://localhost:8080/",
          "height": 216
        },
        "id": "FmtoME-f1Ib2",
        "outputId": "3bd2fef9-e6c9-4037-cf44-da6f2b8e8a22"
      },
      "execution_count": 41,
      "outputs": [
        {
          "output_type": "stream",
          "name": "stdout",
          "text": [
            "16.5\n",
            "<class 'int'> <class 'float'>\n"
          ]
        },
        {
          "output_type": "error",
          "ename": "TypeError",
          "evalue": "unsupported operand type(s) for +: 'int' and 'str'",
          "traceback": [
            "\u001b[0;31m---------------------------------------------------------------------------\u001b[0m",
            "\u001b[0;31mTypeError\u001b[0m                                 Traceback (most recent call last)",
            "\u001b[0;32m<ipython-input-41-89997ac4e94c>\u001b[0m in \u001b[0;36m<cell line: 9>\u001b[0;34m()\u001b[0m\n\u001b[1;32m      7\u001b[0m \u001b[0;34m\u001b[0m\u001b[0m\n\u001b[1;32m      8\u001b[0m \u001b[0;31m#but it does not work always :\u001b[0m\u001b[0;34m\u001b[0m\u001b[0;34m\u001b[0m\u001b[0m\n\u001b[0;32m----> 9\u001b[0;31m \u001b[0mprint\u001b[0m\u001b[0;34m(\u001b[0m\u001b[0;36m7\u001b[0m\u001b[0;34m+\u001b[0m\u001b[0;34m'7'\u001b[0m\u001b[0;34m)\u001b[0m\u001b[0;34m\u001b[0m\u001b[0;34m\u001b[0m\u001b[0m\n\u001b[0m",
            "\u001b[0;31mTypeError\u001b[0m: unsupported operand type(s) for +: 'int' and 'str'"
          ]
        }
      ]
    },
    {
      "cell_type": "code",
      "source": [
        "# Explicit type conversion :\n",
        "\n",
        "# str -> int\n",
        "\n",
        "print(int('77'));\n",
        "print(type(int('99')))\n",
        "\n",
        "# int -> str\n",
        "\n",
        "print(str(99))\n",
        "print(type(str(100)))\n",
        "\n",
        "# int -> float\n",
        "print(float(78))\n",
        "print(type(float(78)))\n",
        "\n",
        "\n",
        "\n",
        "fnum=input('enter first num')\n",
        "snum=input('enter second num')\n",
        "#  add them\n",
        "result=int(fnum)+int(snum) # explicit type conversion\n",
        "#  print them\n",
        "print(result)\n",
        "\n",
        "# though we explicitly converted it into int but the actual data type is not changed.\n",
        "# while explicit type convertion python creates a new variable with same desired value in memory and do calculation with that only\n",
        "\n",
        "print(type(fnum),type(snum))\n",
        "\n",
        "\n",
        "# another way of taking input :\n",
        "\n",
        "#fnum1=int(input(\"enter first num : \"));\n",
        "\n"
      ],
      "metadata": {
        "colab": {
          "base_uri": "https://localhost:8080/"
        },
        "id": "mAYapcjJ2KoV",
        "outputId": "dd16cf10-edac-4348-8836-e539bc311bc0"
      },
      "execution_count": 51,
      "outputs": [
        {
          "output_type": "stream",
          "name": "stdout",
          "text": [
            "77\n",
            "<class 'int'>\n",
            "99\n",
            "<class 'str'>\n",
            "78.0\n",
            "<class 'float'>\n",
            "enter first num7\n",
            "enter second num99\n",
            "106\n",
            "<class 'str'> <class 'str'>\n"
          ]
        }
      ]
    },
    {
      "cell_type": "markdown",
      "source": [
        "# 7.Literals :\n",
        "literals are those that we store on variables ."
      ],
      "metadata": {
        "id": "UmgRSkFg51tT"
      }
    },
    {
      "cell_type": "code",
      "source": [
        "# binary literal:\n",
        "a = 0b110110011\n",
        "print(a)\n",
        "\n",
        "# decimal literal:\n",
        "a=7777\n",
        "print(a)\n",
        "\n",
        "# octal literal :\n",
        "a=0o6763\n",
        "print(a)\n",
        "\n",
        "# hexadecimal literal :\n",
        "a=0xa1345c\n",
        "print(a)\n",
        "\n",
        "# float literal :\n",
        "a=1.8\n",
        "print(a)\n",
        "\n",
        "a=1.7e3\n",
        "print(a) # 1.7x10^3\n",
        "\n",
        "a=1456e-3\n",
        "print(a)\n",
        "\n",
        " # complex literal :\n",
        "\n",
        "a=7+9j\n",
        "print(a)\n",
        "print(a.real,a.imag)"
      ],
      "metadata": {
        "colab": {
          "base_uri": "https://localhost:8080/"
        },
        "id": "m2Ffb_5N6gGE",
        "outputId": "6d240407-4bc1-4dfa-fd75-0060dc0a6f43"
      },
      "execution_count": 57,
      "outputs": [
        {
          "output_type": "stream",
          "name": "stdout",
          "text": [
            "435\n",
            "7777\n",
            "3571\n",
            "10564700\n",
            "1.8\n",
            "1700.0\n",
            "1.456\n",
            "(7+9j)\n",
            "7.0 9.0\n"
          ]
        }
      ]
    },
    {
      "cell_type": "code",
      "source": [
        "#String Literals :\n",
        "\n",
        "str='its a string'\n",
        "str1_=\"its also a string\"\n",
        "multiline_str='''\n",
        "its a multiline\n",
        "string\n",
        "\n",
        "'''\n",
        "uni=u\"\\U0001F601\" #its used for more storing more broader char like emojis\n",
        "raw_str=r\"we can use \\n here wihout giving a new line\" # we can add newline(\\n)\n",
        "\n",
        "\n",
        "print(str)\n",
        "print(str1_)\n",
        "print(multiline_str)\n",
        "print(uni)\n",
        "print(raw_str)\n",
        "\n",
        "\n",
        "\n",
        "\n"
      ],
      "metadata": {
        "colab": {
          "base_uri": "https://localhost:8080/"
        },
        "id": "QMi0EtZdKS18",
        "outputId": "a888b0af-fb2a-41e2-8ee1-fb4a8d9f558f"
      },
      "execution_count": 63,
      "outputs": [
        {
          "output_type": "stream",
          "name": "stdout",
          "text": [
            "its a string\n",
            "its also a string\n",
            " \n",
            "its a multiline\n",
            "string\n",
            "\n",
            "\n",
            "😁\n",
            "we can use \\n here wihout giving a new line\n"
          ]
        }
      ]
    },
    {
      "cell_type": "code",
      "source": [
        "#boolean literals :\n",
        "\n",
        "a = True + 9\n",
        "b= False + 8\n",
        "\n",
        "print(a)\n",
        "print(b)"
      ],
      "metadata": {
        "colab": {
          "base_uri": "https://localhost:8080/"
        },
        "id": "U6p86sarMPfq",
        "outputId": "6636bf40-b69c-44b5-bbf9-343f5559abc8"
      },
      "execution_count": 64,
      "outputs": [
        {
          "output_type": "stream",
          "name": "stdout",
          "text": [
            "10\n",
            "8\n"
          ]
        }
      ]
    },
    {
      "cell_type": "code",
      "source": [
        "# None : in python we cant declare variable for later use , if we do it will throw an error, so we can do this by the help of none\n",
        "\n",
        "a = None\n",
        "\n",
        "b=77\n",
        "a=99\n",
        "print(b+a)\n",
        "\n"
      ],
      "metadata": {
        "colab": {
          "base_uri": "https://localhost:8080/"
        },
        "id": "V25DuUx7Mrry",
        "outputId": "c6782412-9c4c-4168-e57f-dbeeb71ba7e4"
      },
      "execution_count": 65,
      "outputs": [
        {
          "output_type": "stream",
          "name": "stdout",
          "text": [
            "176\n"
          ]
        }
      ]
    }
  ]
}